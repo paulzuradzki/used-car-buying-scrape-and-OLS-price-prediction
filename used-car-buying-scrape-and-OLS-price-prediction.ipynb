{
 "cells": [
  {
   "cell_type": "markdown",
   "metadata": {},
   "source": [
    "# Web Scraping and Linear Regression with Car Data\n",
    "\n",
    "Purpose: web scrape used car data and estimate pricing based on car attributes like age, mileage, color, and model type"
   ]
  },
  {
   "cell_type": "code",
   "execution_count": 1,
   "metadata": {},
   "outputs": [],
   "source": [
    "# bs4=BeautifulSoup for parsing the HTML text returned from a URL\n",
    "# requests gets our HTML text\n",
    "\n",
    "import bs4\n",
    "import requests\n",
    "import pandas as pd\n",
    "from datetime import datetime"
   ]
  },
  {
   "cell_type": "markdown",
   "metadata": {},
   "source": [
    "# Scraping a single URL\n",
    "\n",
    "Note: \n",
    "* 05/29/20: These links may rot as cars get sold. Go to CarFax.com, apply a few search filters, and click on several cars of interest.\n",
    "* In this example, we use the Honda Civic for year 2017 or higher"
   ]
  },
  {
   "cell_type": "code",
   "execution_count": 2,
   "metadata": {},
   "outputs": [
    {
     "name": "stdout",
     "output_type": "stream",
     "text": [
      "<!DOCTYPE html>\n",
      "<html>\n",
      "\n",
      "<head>\n",
      "  <title data-react-helmet=\"true\">2HGFC3A56KH750872 | 2019 Honda Civic Si for sale in Joliet, IL </title>\n",
      "  <link rel='dns-prefetch' href='https://media.carfax.com' />\n",
      "  <link rel='dns-prefetch' href='https://static.carfax.com' />\n",
      "  <link rel='preconnect' crossorigin='true' href='https://carfax-img.vast.com' />\n",
      "  <link rel=\"manifest\" href=\"/manifest.json\" />\n",
      "  <link rel=\"apple-touch-icon\" href=\"https://static.carfax.com/uclassets/images/favicon-228.png\">\n",
      "  <link rel=\"apple-touch-startup-image\" href=\"https://static.carfax.com/uclassets/images/favicon-228.png\">\n",
      "  <meta name=\"theme-color\" content=\"#3777bc\"/>\n",
      "  <meta http-equiv=\"X-UA-Compatible\" content=\"IE=edge\" />\n",
      "  <meta charset=\"UTF-8\" />\n",
      "  <script type='text/javascript' >window.NREUM||(NREUM={});NREUM.info = {\"agent\":\"\",\"beacon\":\"bam.nr-data.net\",\"errorBeacon\":\"bam.nr-data.net\",\"licenseKey\":\"c882024f46\",\"applicationID\":\"53224171\",\"applicationTime\":135.944934,\"transactionName\":\"M1EBYkcEDEpQBk1QDQobJk5FFwd\n",
      "\n",
      "<class 'bs4.BeautifulSoup'>\n"
     ]
    }
   ],
   "source": [
    "# the soup object contains the full HTML text and car attributes\n",
    "url = 'https://www.carfax.com/vehicle/2HGFC3A56KH750872'\n",
    "resp = requests.get(url)\n",
    "soup = bs4.BeautifulSoup(resp.text)\n",
    "\n",
    "print(resp.text[:1000], end='\\n\\n')\n",
    "print(type(soup))"
   ]
  },
  {
   "cell_type": "code",
   "execution_count": 3,
   "metadata": {},
   "outputs": [
    {
     "data": {
      "text/plain": [
       "[<div class=\"vehicle-info-details vehicle-info-details-title\">Price </div>,\n",
       " <div class=\"vehicle-info-details-price vehicle-info-details\">$21,000</div>,\n",
       " <div class=\"vehicle-info-details vehicle-info-details-title\">Mileage </div>,\n",
       " <div class=\"vehicle-info-details\">16,788 miles </div>,\n",
       " <div class=\"vehicle-info-details vehicle-info-details-title\">Location </div>,\n",
       " <div class=\"vehicle-info-details\">Joliet, IL </div>,\n",
       " <div class=\"vehicle-info-details vehicle-info-details-title\">Exterior Color </div>,\n",
       " <div class=\"vehicle-info-details\">Blue</div>,\n",
       " <div class=\"vehicle-info-details vehicle-info-details-title\">Interior Color </div>,\n",
       " <div class=\"vehicle-info-details\">Black</div>,\n",
       " <div class=\"vehicle-info-details vehicle-info-details-title\">Drive Type </div>,\n",
       " <div class=\"vehicle-info-details\">FWD</div>,\n",
       " <div class=\"vehicle-info-details vehicle-info-details-title\">Transmission </div>,\n",
       " <div class=\"vehicle-info-details\">Manual</div>,\n",
       " <div class=\"vehicle-info-details vehicle-info-details-title\">Body Style </div>,\n",
       " <div class=\"vehicle-info-details\">Coupe</div>,\n",
       " <div class=\"vehicle-info-details vehicle-info-details-title\">Engine </div>,\n",
       " <div class=\"vehicle-info-details\">4 Cyl 1.5 L</div>,\n",
       " <div class=\"vehicle-info-details vehicle-info-details-title\">Fuel </div>,\n",
       " <div class=\"vehicle-info-details\">Gasoline</div>,\n",
       " <div class=\"vehicle-info-details vehicle-info-details-title\">MPG City/Hwy </div>,\n",
       " <div class=\"vehicle-info-details\">28<!-- -->/<!-- -->38</div>,\n",
       " <div class=\"vehicle-info-details vehicle-info-details-title\">VIN </div>,\n",
       " <div class=\"vehicle-info-details\">2HGFC3A56KH750872</div>,\n",
       " <div class=\"vehicle-info-details vehicle-info-details-title\">Stock # </div>,\n",
       " <div class=\"test-auto-stock vehicle-info-details\">J00598A</div>]"
      ]
     },
     "execution_count": 3,
     "metadata": {},
     "output_type": "execute_result"
    }
   ],
   "source": [
    "# use soup selecters to narrow down to HTML containing data \n",
    "soup.select('.vehicle-info-details')"
   ]
  },
  {
   "cell_type": "code",
   "execution_count": 4,
   "metadata": {},
   "outputs": [
    {
     "data": {
      "text/plain": [
       "(<div class=\"vehicle-info-details-price vehicle-info-details\">$21,000</div>,\n",
       " <div class=\"vehicle-info-details\">16,788 miles </div>,\n",
       " <div class=\"vehicle-info-details\">Joliet, IL </div>,\n",
       " <div class=\"vehicle-info-details\">Blue</div>)"
      ]
     },
     "execution_count": 4,
     "metadata": {},
     "output_type": "execute_result"
    }
   ],
   "source": [
    "# parse data points of interest\n",
    "\n",
    "# multiple assignment trick\n",
    "    # the '*_' assigns an arbitrary number of elements that we don't care about to '_'\n",
    "    # idiom for throw-away variables that we don't use is the '_' single underscore character \n",
    "\n",
    "# price, mileage, etc are 'tag' elements\n",
    "_, price, _, mileage, _, loc, _, color_ext, *_ = soup.select('.vehicle-info-details')\n",
    "price, mileage, loc, color_ext"
   ]
  },
  {
   "cell_type": "code",
   "execution_count": 5,
   "metadata": {},
   "outputs": [
    {
     "data": {
      "text/plain": [
       "{'price': '$21,000',\n",
       " 'mileage': '16,788 miles ',\n",
       " 'loc': 'Joliet, IL ',\n",
       " 'color_ext': 'Blue'}"
      ]
     },
     "execution_count": 5,
     "metadata": {},
     "output_type": "execute_result"
    }
   ],
   "source": [
    "# get text from from tag elements via tag.getText() and store in dictionary format\n",
    "\n",
    "columns=['price', 'mileage', 'loc', 'color_ext']\n",
    "data_vals = [xtag.getText() for xtag in [price, mileage, loc, color_ext]]\n",
    "data = zip(columns, data_vals)\n",
    "data = dict(data)\n",
    "data"
   ]
  },
  {
   "cell_type": "code",
   "execution_count": 6,
   "metadata": {},
   "outputs": [
    {
     "data": {
      "text/html": [
       "<div>\n",
       "<style scoped>\n",
       "    .dataframe tbody tr th:only-of-type {\n",
       "        vertical-align: middle;\n",
       "    }\n",
       "\n",
       "    .dataframe tbody tr th {\n",
       "        vertical-align: top;\n",
       "    }\n",
       "\n",
       "    .dataframe thead th {\n",
       "        text-align: right;\n",
       "    }\n",
       "</style>\n",
       "<table border=\"1\" class=\"dataframe\">\n",
       "  <thead>\n",
       "    <tr style=\"text-align: right;\">\n",
       "      <th></th>\n",
       "      <th>price</th>\n",
       "      <th>mileage</th>\n",
       "      <th>loc</th>\n",
       "      <th>color_ext</th>\n",
       "      <th>url</th>\n",
       "    </tr>\n",
       "  </thead>\n",
       "  <tbody>\n",
       "    <tr>\n",
       "      <th>0</th>\n",
       "      <td>$21,000</td>\n",
       "      <td>16,788 miles</td>\n",
       "      <td>Joliet, IL</td>\n",
       "      <td>Blue</td>\n",
       "      <td>https://www.carfax.com/vehicle/2HGFC3A56KH750872</td>\n",
       "    </tr>\n",
       "  </tbody>\n",
       "</table>\n",
       "</div>"
      ],
      "text/plain": [
       "     price        mileage          loc color_ext  \\\n",
       "0  $21,000  16,788 miles   Joliet, IL       Blue   \n",
       "\n",
       "                                                url  \n",
       "0  https://www.carfax.com/vehicle/2HGFC3A56KH750872  "
      ]
     },
     "execution_count": 6,
     "metadata": {},
     "output_type": "execute_result"
    }
   ],
   "source": [
    "# convert dictionary to dataframe\n",
    "\n",
    "df = pd.DataFrame.from_dict(data, orient='index').T\n",
    "df['url'] = url\n",
    "df"
   ]
  },
  {
   "cell_type": "markdown",
   "metadata": {},
   "source": [
    "# Make this a function, loop through a list of URLs, and consolidate"
   ]
  },
  {
   "cell_type": "code",
   "execution_count": 7,
   "metadata": {},
   "outputs": [],
   "source": [
    "def url_to_df(url):\n",
    "    '''Parse data from carfax url\n",
    "\n",
    "    Example\n",
    "    -------\n",
    "    >>> url = 'https://www.carfax.com/vehicle/SHHFK7H48JU208178'\n",
    "    >>> df = parse_url(url)\n",
    "    '''\n",
    "    resp = requests.get(url)\n",
    "    try:\n",
    "        resp.raise_for_status()\n",
    "    except:\n",
    "        print(f'HTTP Error for URL: {url}')\n",
    "        return None\n",
    "    soup = bs4.BeautifulSoup(resp.text)\n",
    "    _, price, _, mileage, _, loc, _, color_ext, *_ = soup.select('.vehicle-info-details')\n",
    "    columns=['price', 'mileage', 'loc', 'color_ext']\n",
    "    data_vals = [x.getText() for x in [price, mileage, loc, color_ext]]\n",
    "    data = zip(columns, data_vals)\n",
    "    data = dict(data)\n",
    "    df = pd.DataFrame.from_dict(data, orient='index').T\n",
    "    df['mileage'] = df['mileage'].str.replace(' miles', '')\n",
    "    df['url'] = url\n",
    "    df['label'] = soup.select('.vehicle-title')[0].getText()\n",
    "    df['year'] = df['label'].str.slice(0,4)\n",
    "    df = df[['label', 'year', 'mileage', 'price', 'color_ext', 'loc', 'url']]\n",
    "    return df\n"
   ]
  },
  {
   "cell_type": "code",
   "execution_count": 8,
   "metadata": {},
   "outputs": [],
   "source": [
    "urls = ['https://www.carfax.com/vehicle/2HGFC2F6XKH516438',\n",
    " 'https://www.carfax.com/vehicle/19XFB2F52FE095230',\n",
    " 'https://www.carfax.com/vehicle/SHHFK7H57JU237048',\n",
    " 'https://www.carfax.com/vehicle/SHHFK7H54JU209689',\n",
    " 'https://www.carfax.com/vehicle/19XFB2F71FE024814',\n",
    " 'https://www.carfax.com/vehicle/2HGFC3A56KH750872',\n",
    " 'https://www.carfax.com/vehicle/19XFC1F31HE017014',\n",
    " 'https://www.carfax.com/vehicle/2HGFC3B70HH361556',\n",
    " 'https://www.carfax.com/vehicle/2HGFC4B60KH304679',\n",
    " 'https://www.carfax.com/vehicle/SHHFK7H42HU211538',\n",
    " 'https://www.carfax.com/vehicle/SHHFK7H56HU232918',\n",
    " 'https://www.carfax.com/vehicle/19XFA1F50BE030688',\n",
    " 'https://www.carfax.com/vehicle/2HGFC3B39JH352003',\n",
    " 'https://www.carfax.com/vehicle/19XFC2F57JE025910',\n",
    " 'https://www.carfax.com/vehicle/2HGFC4B50GH301957',\n",
    " 'https://www.carfax.com/vehicle/2HGFC3B72JH351813',\n",
    " 'https://www.carfax.com/vehicle/19XFB2F50FE059830',\n",
    " 'https://www.carfax.com/vehicle/19XFB2F50FE059830',\n",
    " 'https://www.carfax.com/vehicle/19XFC2F59JE007764',\n",
    " 'https://www.carfax.com/vehicle/19XFB2F56FE114488',\n",
    " 'https://www.carfax.com/vehicle/19XFC2F50HE075008',\n",
    " 'https://www.carfax.com/vehicle/2HGFC3B32GH351929',\n",
    " 'https://www.carfax.com/vehicle/2HGFC3B34HH355773',\n",
    " 'https://www.carfax.com/vehicle/2HGFC2F71HH525403',\n",
    " 'https://www.carfax.com/vehicle/19XFC2F5XHE034790']"
   ]
  },
  {
   "cell_type": "code",
   "execution_count": null,
   "metadata": {},
   "outputs": [
    {
     "name": "stdout",
     "output_type": "stream",
     "text": [
      "https://www.carfax.com/vehicle/2HGFC2F6XKH516438\n",
      "https://www.carfax.com/vehicle/19XFB2F52FE095230\n",
      "https://www.carfax.com/vehicle/SHHFK7H57JU237048\n",
      "HTTP Error for URL: https://www.carfax.com/vehicle/SHHFK7H57JU237048\n",
      "https://www.carfax.com/vehicle/SHHFK7H54JU209689\n",
      "https://www.carfax.com/vehicle/19XFB2F71FE024814\n",
      "https://www.carfax.com/vehicle/2HGFC3A56KH750872\n",
      "https://www.carfax.com/vehicle/19XFC1F31HE017014\n",
      "https://www.carfax.com/vehicle/2HGFC3B70HH361556\n"
     ]
    }
   ],
   "source": [
    "# initialize empty dataframe and concatenate new sub dataframes with itself\n",
    "df_all = pd.DataFrame()\n",
    "for url in urls:\n",
    "    print(url)\n",
    "    df_sub = url_to_df(url)\n",
    "    df_all = pd.concat([df_all, df_sub])\n",
    "\n",
    "df_all = df_all.reset_index(drop=True)\n",
    "\n",
    "# convert price string to integer \n",
    "df_all['price'] = df_all['price'].str.replace('$','').str.replace(',','').astype(int)"
   ]
  },
  {
   "cell_type": "code",
   "execution_count": null,
   "metadata": {},
   "outputs": [],
   "source": [
    "df_all"
   ]
  },
  {
   "cell_type": "markdown",
   "metadata": {},
   "source": [
    "# Predictive model using ordinary least squares regression (OLS)"
   ]
  },
  {
   "cell_type": "markdown",
   "metadata": {},
   "source": [
    "### Primer\n",
    "* Relationship between dependent variable (value we want to predict)\n",
    "* Constant/intercept\n",
    "* Slope coefficient\n",
    "* Random error term"
   ]
  },
  {
   "cell_type": "markdown",
   "metadata": {},
   "source": [
    "![image.png](data:image/png;base64,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)"
   ]
  },
  {
   "cell_type": "markdown",
   "metadata": {},
   "source": [
    "![image.png](data:image/png;base64,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)"
   ]
  },
  {
   "cell_type": "markdown",
   "metadata": {},
   "source": [
    "![image.png](https://encrypted-tbn0.gstatic.com/images?q=tbn%3AANd9GcR-tWrEwqgBkxDc2KOkS-RvsLd6b4XTUdQ9LsdWrhS65UCGY8I7&usqp=CAU)"
   ]
  },
  {
   "cell_type": "markdown",
   "metadata": {},
   "source": [
    "### Prepare model inputs\n",
    "* note that we omit 1 of the model dummy variables\n",
    "* use n-1 dummy variables where n=number of unique categories\n",
    "* reference\n",
    "    * https://stats.stackexchange.com/questions/115049/why-do-we-need-to-dummy-code-categorical-variables"
   ]
  },
  {
   "cell_type": "code",
   "execution_count": null,
   "metadata": {},
   "outputs": [],
   "source": [
    "# y is independent variable to predict that depends on X's\n",
    "# convention is capital X for predictor variables\n",
    "\n",
    "y = df_all['price']\n",
    "X = pd.DataFrame(index=df_all.index)\n",
    "\n",
    "# format X variables \n",
    "X['age'] = datetime.today().year - df_all['year'].astype(int)\n",
    "X['mileage'] = df_all['mileage'].str.replace(',','').astype(int)\n",
    "# X['dummy_lx'] = df_all['label'].str.lower().str.contains('lx').astype(int)\n",
    "X['dummy_ex'] = df_all['label'].str.lower().str.contains('ex').astype(int)\n",
    "X['dummy_si'] = df_all['label'].str.lower().str.contains('si').astype(int)\n",
    "X['dummy_sport'] = df_all['label'].str.lower().str.contains('sport').astype(int)"
   ]
  },
  {
   "cell_type": "code",
   "execution_count": null,
   "metadata": {},
   "outputs": [],
   "source": [
    "X.head(10)"
   ]
  },
  {
   "cell_type": "code",
   "execution_count": null,
   "metadata": {},
   "outputs": [],
   "source": [
    "# merge to view prepared variables with original dataframe\n",
    "merged = df_all.merge(X, left_index=True, right_index=True)\n",
    "merged.head(10).drop(columns='url')"
   ]
  },
  {
   "cell_type": "code",
   "execution_count": null,
   "metadata": {},
   "outputs": [],
   "source": [
    "X.describe()"
   ]
  },
  {
   "cell_type": "markdown",
   "metadata": {},
   "source": [
    "### Fit the model and inspect result parameters"
   ]
  },
  {
   "cell_type": "code",
   "execution_count": null,
   "metadata": {},
   "outputs": [],
   "source": [
    "# for more documentation on Ordinary Least Squares with statsmodels, see:\n",
    "    # https://www.statsmodels.org/stable/examples/notebooks/generated/ols.html\n",
    "    # you can also check out scikit-learn which has a similar API pattern\n",
    "    # \"model\" object that takes array-like objects\n",
    "\n",
    "import statsmodels.api as sm\n",
    "\n",
    "# Our model needs an intercept so we add a column of 1s\n",
    "X = sm.add_constant(X)\n",
    "\n",
    "# ex: for binary outcome instead, could use 'model = sm.logit(y, W)'\n",
    "model = sm.OLS(y, X)\n",
    "result = model.fit()\n",
    "result.summary()"
   ]
  },
  {
   "cell_type": "markdown",
   "metadata": {},
   "source": [
    "**Interpretation**\n",
    "* Subtract $1303 for every year as age penalty\n",
    "* Mileage is insignficant. Low coefficient and high p-value. This feels wrong. We have too little data and perhaps we need to represent this variable differently.\n",
    "* LX model starts at constant of \\\\$18,020. \\\\$3166-\\\\$3638 dollars if it's Sport, Ex, or Si model.\n",
    "* R-squared is high. 99%+ of variance can be explained by these variables. \n",
    "    * It's also possible that our model is over-fit."
   ]
  },
  {
   "cell_type": "code",
   "execution_count": null,
   "metadata": {},
   "outputs": [],
   "source": [
    "print(result.summary())"
   ]
  },
  {
   "cell_type": "code",
   "execution_count": null,
   "metadata": {},
   "outputs": [],
   "source": [
    "# other items of interest\n",
    "print('Parameters: ', result.params, sep='\\n', end='\\n\\n')\n",
    "print('Standard errors: ', result.bse, sep='\\n', end='\\n\\n')\n",
    "print('Predicted values: ', result.predict(), sep='\\n', end='\\n\\n')"
   ]
  },
  {
   "cell_type": "markdown",
   "metadata": {},
   "source": [
    "### Examine actual vs predicted price"
   ]
  },
  {
   "cell_type": "code",
   "execution_count": null,
   "metadata": {},
   "outputs": [],
   "source": [
    "# if the predicted price is higher than the actual, this might suggest a bargain\n",
    "# barring no other variables (ex: might want to add variables like # owners and prior accidents)\n",
    "df_all['predicted_price'] = result.predict()\n",
    "df_all['diff'] = df_all['predicted_price'] - df_all['price']\n",
    "df_all[['label', 'year', 'mileage', 'color_ext', 'loc', 'url', 'price', 'predicted_price', 'diff']].round(2)\\\n",
    "      .drop(columns='url')\\\n",
    "      .sort_values(by='diff', ascending=False)"
   ]
  },
  {
   "cell_type": "markdown",
   "metadata": {},
   "source": [
    "### Test on new data"
   ]
  },
  {
   "cell_type": "code",
   "execution_count": null,
   "metadata": {},
   "outputs": [],
   "source": [
    "# say I observe a new data point/car that's 2 years old, 30,000 miles, and model LX\n",
    "# what should the predicted price be?\n",
    "\n",
    "age = 2\n",
    "mileage = 30_000\n",
    "dummy_ex = 0\n",
    "dummy_si = 0\n",
    "dummy_sport = 0\n",
    "\n",
    "new_data = pd.Series([1, age, mileage, dummy_ex, dummy_si, dummy_sport], index=result.params.index)\n",
    "predicted = (result.params*new_data).sum()\n",
    "\n",
    "print('predicted price: ', predicted, sep='\\n', end='\\n\\n')\n",
    "print('params: ', result.params, sep='\\n', end='\\n\\n')\n",
    "print('new_data: ', new_data, sep='\\n', end='\\n\\n')"
   ]
  },
  {
   "cell_type": "markdown",
   "metadata": {},
   "source": [
    "# Exercise\n",
    "* Make a similar regression model but introduce the 'color' variable and see if "
   ]
  },
  {
   "cell_type": "markdown",
   "metadata": {},
   "source": [
    "# Topics not covered\n",
    "* model validation and test vs. training data sets\n",
    "* feature engineering / identifying variables and inspecting for redundant correlations\n",
    "* other regression and/or machine learning models"
   ]
  },
  {
   "cell_type": "markdown",
   "metadata": {},
   "source": [
    "Typically, before we select our features, we might explore relationships visually through plots or correlation heat maps."
   ]
  },
  {
   "cell_type": "code",
   "execution_count": null,
   "metadata": {},
   "outputs": [],
   "source": [
    "import seaborn as sns\n",
    "sns.set()\n",
    "\n",
    "# negative relationship between mileage and price\n",
    "df_all.merge(X, left_index=True, right_index=True).plot(x='mileage_y', y='price', kind='scatter')"
   ]
  },
  {
   "cell_type": "code",
   "execution_count": null,
   "metadata": {},
   "outputs": [],
   "source": []
  }
 ],
 "metadata": {
  "kernelspec": {
   "display_name": "Python 3",
   "language": "python",
   "name": "python3"
  },
  "language_info": {
   "codemirror_mode": {
    "name": "ipython",
    "version": 3
   },
   "file_extension": ".py",
   "mimetype": "text/x-python",
   "name": "python",
   "nbconvert_exporter": "python",
   "pygments_lexer": "ipython3",
   "version": "3.7.6"
  }
 },
 "nbformat": 4,
 "nbformat_minor": 4
}
